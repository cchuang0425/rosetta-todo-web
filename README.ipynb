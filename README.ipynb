{
 "cells": [
  {
   "cell_type": "code",
   "execution_count": 8,
   "metadata": {
    "hideCode": false,
    "hidePrompt": false,
    "kernel": "Python3"
   },
   "outputs": [],
   "source": [
    "#@hidden_cell\n",
    "import iplantuml"
   ]
  },
  {
   "cell_type": "markdown",
   "metadata": {
    "hideCode": false,
    "hidePrompt": false,
    "kernel": "markdown"
   },
   "source": [
    "# TodoWeb 計畫\n",
    "\n",
    "這是 Rosetta 的中型計畫，目的在建立一個小型的 Web 架構，具備 CRUD 機制，並有簡易的登入與個人資訊維護頁面。\n",
    "設計方向上會以後端開發為主，因此會以前後端分離的方式進行開發，亦即盡可能地不使用各個語言的 Template 函式庫，\n",
    "以減少前端工作，將主要的開發力道放在後端的實作上。若是該語言缺乏這方面的支援，則才會考慮用語言原生的方式進行實作。\n",
    "\n",
    "# 語言列表\n",
    "\n",
    "以下列出這個計畫的使用語言列表，以及主要會使用到的套件：\n",
    "\n",
    "## Java\n",
    "\n",
    "* 版本：OpenJDK 11\n",
    "* 主要套件：\n",
    "    - Spring\n",
    "    - SpringMVC\n",
    "    - JDBI\n",
    "\n",
    "## C# (with .Net Core)\n",
    "\n",
    "## Racket\n",
    "\n",
    "## Clojure\n",
    "\n",
    "## Python\n",
    "\n",
    "## Julia\n",
    "\n",
    "## Haskell\n",
    "\n",
    "## OCaml\n",
    "\n",
    "## Ruby\n",
    "\n",
    "## Elixir\n",
    "\n",
    "## NodeJS\n",
    "\n",
    "## Go\n",
    "\n",
    "\n",
    "# 使用案例\n",
    "\n",
    "使用案例如下圖所示："
   ]
  },
  {
   "cell_type": "code",
   "execution_count": 9,
   "metadata": {
    "hideCode": false,
    "hidePrompt": false,
    "kernel": "Python3"
   },
   "outputs": [
    {
     "data": {
      "image/svg+xml": [
       "<svg contentScriptType=\"application/ecmascript\" contentStyleType=\"text/css\" height=\"205px\" preserveAspectRatio=\"none\" style=\"width:960px;height:205px;\" version=\"1.1\" viewBox=\"0 0 960 205\" width=\"960px\" xmlns=\"http://www.w3.org/2000/svg\" xmlns:xlink=\"http://www.w3.org/1999/xlink\" zoomAndPan=\"magnify\"><defs><filter height=\"300%\" id=\"f1mey6l56wdz00\" width=\"300%\" x=\"-1\" y=\"-1\"><feGaussianBlur result=\"blurOut\" stdDeviation=\"2.0\"/><feColorMatrix in=\"blurOut\" result=\"blurOut2\" type=\"matrix\" values=\"0 0 0 0 0 0 0 0 0 0 0 0 0 0 0 0 0 0 .4 0\"/><feOffset dx=\"4.0\" dy=\"4.0\" in=\"blurOut2\" result=\"blurOut3\"/><feBlend in=\"SourceGraphic\" in2=\"blurOut3\" mode=\"normal\"/></filter></defs><g><!--entity AuthorizedYou--><ellipse cx=\"376\" cy=\"18\" fill=\"#FEFECE\" filter=\"url(#f1mey6l56wdz00)\" rx=\"8\" ry=\"8\" style=\"stroke: #A80036; stroke-width: 2.0;\"/><path d=\"M376,26 L376,53 M363,34 L389,34 M376,53 L363,68 M376,53 L389,68 \" fill=\"none\" filter=\"url(#f1mey6l56wdz00)\" style=\"stroke: #A80036; stroke-width: 2.0;\"/><text fill=\"#000000\" font-family=\"sans-serif\" font-size=\"14\" lengthAdjust=\"spacingAndGlyphs\" textLength=\"101\" x=\"325.5\" y=\"90.0596\">AuthorizedYou</text><!--entity UnauthorizedSomeone--><ellipse cx=\"861\" cy=\"18\" fill=\"#FEFECE\" filter=\"url(#f1mey6l56wdz00)\" rx=\"8\" ry=\"8\" style=\"stroke: #A80036; stroke-width: 2.0;\"/><path d=\"M861,26 L861,53 M848,34 L874,34 M861,53 L848,68 M861,53 L874,68 \" fill=\"none\" filter=\"url(#f1mey6l56wdz00)\" style=\"stroke: #A80036; stroke-width: 2.0;\"/><text fill=\"#000000\" font-family=\"sans-serif\" font-size=\"14\" lengthAdjust=\"spacingAndGlyphs\" textLength=\"156\" x=\"783\" y=\"90.0596\">UnauthorizedSomeone</text><ellipse cx=\"90.1752\" cy=\"174.235\" fill=\"#FEFECE\" filter=\"url(#f1mey6l56wdz00)\" rx=\"84.1752\" ry=\"19.235\" style=\"stroke: #A80036; stroke-width: 1.5;\"/><text fill=\"#000000\" font-family=\"sans-serif\" font-size=\"14\" lengthAdjust=\"spacingAndGlyphs\" textLength=\"133\" x=\"23.6752\" y=\"180.0456\">UpdatePersonalInfo</text><ellipse cx=\"282.7963\" cy=\"173.7593\" fill=\"#FEFECE\" filter=\"url(#f1mey6l56wdz00)\" rx=\"74.2963\" ry=\"17.2593\" style=\"stroke: #A80036; stroke-width: 1.5;\"/><text fill=\"#000000\" font-family=\"sans-serif\" font-size=\"14\" lengthAdjust=\"spacingAndGlyphs\" textLength=\"108\" x=\"228.7963\" y=\"179.5698\">CreateTodoItem</text><ellipse cx=\"469.0945\" cy=\"174.2189\" fill=\"#FEFECE\" filter=\"url(#f1mey6l56wdz00)\" rx=\"76.5945\" ry=\"17.7189\" style=\"stroke: #A80036; stroke-width: 1.5;\"/><text fill=\"#000000\" font-family=\"sans-serif\" font-size=\"14\" lengthAdjust=\"spacingAndGlyphs\" textLength=\"114\" x=\"412.0945\" y=\"180.0295\">UpdateTodoItem</text><ellipse cx=\"659.0474\" cy=\"174.1095\" fill=\"#FEFECE\" filter=\"url(#f1mey6l56wdz00)\" rx=\"78.5474\" ry=\"18.1095\" style=\"stroke: #A80036; stroke-width: 1.5;\"/><text fill=\"#000000\" font-family=\"sans-serif\" font-size=\"14\" lengthAdjust=\"spacingAndGlyphs\" textLength=\"119\" x=\"599.5474\" y=\"179.92\">RemoveTodoItem</text><ellipse cx=\"860.8194\" cy=\"174.0639\" fill=\"#FEFECE\" filter=\"url(#f1mey6l56wdz00)\" rx=\"88.3194\" ry=\"20.0639\" style=\"stroke: #A80036; stroke-width: 1.5;\"/><text fill=\"#000000\" font-family=\"sans-serif\" font-size=\"14\" lengthAdjust=\"spacingAndGlyphs\" textLength=\"143\" x=\"789.3194\" y=\"179.8744\">RedirectToLoginPage</text><!--link AuthorizedYou to UpdatePersonalInfo--><path d=\"M325.1985,72.8482 C270.9285,96.1881 185.7739,132.8105 134.1876,154.9962 \" fill=\"none\" id=\"AuthorizedYou-UpdatePersonalInfo\" style=\"stroke: #A80036; stroke-width: 1.0;\"/><polygon fill=\"#A80036\" points=\"129.3024,157.0972,139.1505,157.2161,133.8956,155.1218,135.9899,149.8669,129.3024,157.0972\" style=\"stroke: #A80036; stroke-width: 1.0;\"/><!--link AuthorizedYou to CreateTodoItem--><path d=\"M343.4731,94.0194 C328.6308,113.6496 311.6946,136.0491 299.5283,152.14 \" fill=\"none\" id=\"AuthorizedYou-CreateTodoItem\" style=\"stroke: #A80036; stroke-width: 1.0;\"/><polygon fill=\"#A80036\" points=\"296.2289,156.5036,304.8475,151.7372,299.2445,152.5153,298.4663,146.9122,296.2289,156.5036\" style=\"stroke: #A80036; stroke-width: 1.0;\"/><!--link AuthorizedYou to UpdateTodoItem--><path d=\"M408.5269,94.0194 C423.3692,113.6496 440.3054,136.0491 452.4717,152.14 \" fill=\"none\" id=\"AuthorizedYou-UpdateTodoItem\" style=\"stroke: #A80036; stroke-width: 1.0;\"/><polygon fill=\"#A80036\" points=\"455.7711,156.5036,453.5337,146.9122,452.7555,152.5153,447.1525,151.7372,455.7711,156.5036\" style=\"stroke: #A80036; stroke-width: 1.0;\"/><!--link AuthorizedYou to RemoveTodoItem--><path d=\"M426.5947,72.9899 C481.117,96.6869 566.8656,133.9557 617.5494,155.9844 \" fill=\"none\" id=\"AuthorizedYou-RemoveTodoItem\" style=\"stroke: #A80036; stroke-width: 1.0;\"/><polygon fill=\"#A80036\" points=\"622.3426,158.0676,615.6831,150.8115,617.757,156.0745,612.4941,158.1484,622.3426,158.0676\" style=\"stroke: #A80036; stroke-width: 1.0;\"/><!--link UnauthorizedSomeone to RedirectToLoginPage--><path d=\"M861,94.0194 C861,112.3182 861,133.0233 861,148.7817 \" fill=\"none\" id=\"UnauthorizedSomeone-RedirectToLoginPage\" style=\"stroke: #A80036; stroke-width: 1.0;\"/><polygon fill=\"#A80036\" points=\"861,153.9256,865,144.9256,861,148.9256,857,144.9256,861,153.9256\" style=\"stroke: #A80036; stroke-width: 1.0;\"/><!--\n",
       "@startuml\n",
       "actor AuthorizedYou\n",
       "actor UnauthorizedSomeone\n",
       "\n",
       "AuthorizedYou - -> (UpdatePersonalInfo)\n",
       "AuthorizedYou - -> (CreateTodoItem)\n",
       "AuthorizedYou - -> (UpdateTodoItem)\n",
       "AuthorizedYou - -> (RemoveTodoItem)\n",
       "\n",
       "UnauthorizedSomeone - -> (RedirectToLoginPage)\n",
       "@enduml\n",
       "\n",
       "PlantUML version 1.2018.14(Sat Dec 22 00:33:16 CST 2018)\n",
       "(GPL source distribution)\n",
       "Java Runtime: Java(TM) SE Runtime Environment\n",
       "JVM: Java HotSpot(TM) 64-Bit Server VM\n",
       "Java Version: 1.8.0_202-b08\n",
       "Operating System: Linux\n",
       "OS Version: 4.20.7-arch1-1-ARCH\n",
       "Default Encoding: UTF-8\n",
       "Language: zh\n",
       "Country: TW\n",
       "--></g></svg>"
      ],
      "text/plain": [
       "<IPython.core.display.SVG object>"
      ]
     },
     "execution_count": 9,
     "metadata": {},
     "output_type": "execute_result"
    }
   ],
   "source": [
    "%%plantuml --jar\n",
    "\n",
    "@startuml\n",
    "actor AuthorizedYou\n",
    "actor UnauthorizedSomeone\n",
    "\n",
    "AuthorizedYou --> (UpdatePersonalInfo)\n",
    "AuthorizedYou --> (CreateTodoItem)\n",
    "AuthorizedYou --> (UpdateTodoItem)\n",
    "AuthorizedYou --> (RemoveTodoItem)\n",
    "\n",
    "UnauthorizedSomeone --> (RedirectToLoginPage)\n",
    "@enduml"
   ]
  },
  {
   "cell_type": "markdown",
   "metadata": {
    "hideCode": false,
    "hidePrompt": false,
    "kernel": "markdown"
   },
   "source": [
    "# 活動流程\n",
    "\n",
    "系統活動圖如下："
   ]
  },
  {
   "cell_type": "code",
   "execution_count": 10,
   "metadata": {
    "hideCode": false,
    "hidePrompt": false,
    "kernel": "Python3"
   },
   "outputs": [
    {
     "data": {
      "image/svg+xml": [
       "<svg contentScriptType=\"application/ecmascript\" contentStyleType=\"text/css\" height=\"423px\" preserveAspectRatio=\"none\" style=\"width:403px;height:423px;\" version=\"1.1\" viewBox=\"0 0 403 423\" width=\"403px\" xmlns=\"http://www.w3.org/2000/svg\" xmlns:xlink=\"http://www.w3.org/1999/xlink\" zoomAndPan=\"magnify\"><defs><filter height=\"300%\" id=\"f1k09zxpy7jtug\" width=\"300%\" x=\"-1\" y=\"-1\"><feGaussianBlur result=\"blurOut\" stdDeviation=\"2.0\"/><feColorMatrix in=\"blurOut\" result=\"blurOut2\" type=\"matrix\" values=\"0 0 0 0 0 0 0 0 0 0 0 0 0 0 0 0 0 0 .4 0\"/><feOffset dx=\"4.0\" dy=\"4.0\" in=\"blurOut2\" result=\"blurOut3\"/><feBlend in=\"SourceGraphic\" in2=\"blurOut3\" mode=\"normal\"/></filter></defs><g><ellipse cx=\"192\" cy=\"18\" fill=\"#000000\" filter=\"url(#f1k09zxpy7jtug)\" rx=\"10\" ry=\"10\" style=\"stroke: none; stroke-width: 1.0;\"/><rect fill=\"#FEFECE\" filter=\"url(#f1k09zxpy7jtug)\" height=\"35.9609\" rx=\"12.5\" ry=\"12.5\" style=\"stroke: #A80036; stroke-width: 1.5;\" width=\"44\" x=\"170\" y=\"68\"/><text fill=\"#000000\" font-family=\"sans-serif\" font-size=\"12\" lengthAdjust=\"spacingAndGlyphs\" textLength=\"24\" x=\"180\" y=\"90.9082\">登入</text><rect fill=\"#000000\" filter=\"url(#f1k09zxpy7jtug)\" height=\"8\" style=\"stroke: none; stroke-width: 1.0;\" width=\"80\" x=\"152\" y=\"144\"/><rect fill=\"#FEFECE\" filter=\"url(#f1k09zxpy7jtug)\" height=\"35.9609\" rx=\"12.5\" ry=\"12.5\" style=\"stroke: #A80036; stroke-width: 1.5;\" width=\"78\" x=\"6\" y=\"192\"/><text fill=\"#000000\" font-family=\"sans-serif\" font-size=\"12\" lengthAdjust=\"spacingAndGlyphs\" textLength=\"58\" x=\"16\" y=\"214.9082\">新增 Todo</text><rect fill=\"#000000\" filter=\"url(#f1k09zxpy7jtug)\" height=\"8\" style=\"stroke: none; stroke-width: 1.0;\" width=\"80\" x=\"152\" y=\"268\"/><rect fill=\"#FEFECE\" filter=\"url(#f1k09zxpy7jtug)\" height=\"35.9609\" rx=\"12.5\" ry=\"12.5\" style=\"stroke: #A80036; stroke-width: 1.5;\" width=\"78\" x=\"104\" y=\"192\"/><text fill=\"#000000\" font-family=\"sans-serif\" font-size=\"12\" lengthAdjust=\"spacingAndGlyphs\" textLength=\"58\" x=\"114\" y=\"214.9082\">修改 Todo</text><rect fill=\"#FEFECE\" filter=\"url(#f1k09zxpy7jtug)\" height=\"35.9609\" rx=\"12.5\" ry=\"12.5\" style=\"stroke: #A80036; stroke-width: 1.5;\" width=\"78\" x=\"202\" y=\"192\"/><text fill=\"#000000\" font-family=\"sans-serif\" font-size=\"12\" lengthAdjust=\"spacingAndGlyphs\" textLength=\"58\" x=\"212\" y=\"214.9082\">刪除 Todo</text><rect fill=\"#FEFECE\" filter=\"url(#f1k09zxpy7jtug)\" height=\"35.9609\" rx=\"12.5\" ry=\"12.5\" style=\"stroke: #A80036; stroke-width: 1.5;\" width=\"92\" x=\"300\" y=\"192\"/><text fill=\"#000000\" font-family=\"sans-serif\" font-size=\"12\" lengthAdjust=\"spacingAndGlyphs\" textLength=\"72\" x=\"310\" y=\"214.9082\">修改個人資訊</text><rect fill=\"#FEFECE\" filter=\"url(#f1k09zxpy7jtug)\" height=\"35.9609\" rx=\"12.5\" ry=\"12.5\" style=\"stroke: #A80036; stroke-width: 1.5;\" width=\"44\" x=\"170\" y=\"316\"/><text fill=\"#000000\" font-family=\"sans-serif\" font-size=\"12\" lengthAdjust=\"spacingAndGlyphs\" textLength=\"24\" x=\"180\" y=\"338.9082\">登出</text><ellipse cx=\"192\" cy=\"402\" fill=\"none\" filter=\"url(#f1k09zxpy7jtug)\" rx=\"10\" ry=\"10\" style=\"stroke: #000000; stroke-width: 1.0;\"/><ellipse cx=\"192.5\" cy=\"402.5\" fill=\"#000000\" rx=\"6\" ry=\"6\" style=\"stroke: none; stroke-width: 1.0;\"/><!--link start to 登入--><path d=\"M192,28.0336 C192,37.1323 192,50.8898 192,62.7191 \" fill=\"none\" id=\"start-登入\" style=\"stroke: #A80036; stroke-width: 1.0;\"/><polygon fill=\"#A80036\" points=\"192,67.9948,196,58.9948,192,62.9948,188,58.9948,192,67.9948\" style=\"stroke: #A80036; stroke-width: 1.0;\"/><!--link 登入 to F1--><path d=\"M192,104.2667 C192,115.5184 192,129.4789 192,138.5561 \" fill=\"none\" id=\"登入-F1\" style=\"stroke: #A80036; stroke-width: 1.0;\"/><polygon fill=\"#A80036\" points=\"192,143.7385,196,134.7385,192,138.7385,188,134.7385,192,143.7385\" style=\"stroke: #A80036; stroke-width: 1.0;\"/><!--link F1 to 新增 Todo--><path d=\"M182.3549,152.068 C163.7256,159.9252 121.7499,177.6293 89.071,191.4122 \" fill=\"none\" id=\"F1-新增 Todo\" style=\"stroke: #A80036; stroke-width: 1.0;\"/><polygon fill=\"#A80036\" points=\"84.3209,193.4157,94.168,193.6036,88.9279,191.4726,91.059,186.2325,84.3209,193.4157\" style=\"stroke: #A80036; stroke-width: 1.0;\"/><!--link 新增 Todo to J1--><path d=\"M84.0074,226.4521 C114.8753,239.4712 156.2402,256.9176 177.7135,265.9744 \" fill=\"none\" id=\"新增 Todo-J1\" style=\"stroke: #A80036; stroke-width: 1.0;\"/><polygon fill=\"#A80036\" points=\"182.4788,267.9842,175.7407,260.801,177.8718,266.0411,172.6317,268.1721,182.4788,267.9842\" style=\"stroke: #A80036; stroke-width: 1.0;\"/><!--link F1 to 修改 Todo--><path d=\"M188.785,152.068 C183.1122,159.2458 170.9448,174.6413 160.5785,187.7579 \" fill=\"none\" id=\"F1-修改 Todo\" style=\"stroke: #A80036; stroke-width: 1.0;\"/><polygon fill=\"#A80036\" points=\"157.4283,191.7437,166.1471,187.163,160.5286,187.8209,159.8707,182.2025,157.4283,191.7437\" style=\"stroke: #A80036; stroke-width: 1.0;\"/><!--link 修改 Todo to J1--><path d=\"M157.4366,228.2667 C166.5831,239.8399 177.9946,254.2788 185.1416,263.3221 \" fill=\"none\" id=\"修改 Todo-J1\" style=\"stroke: #A80036; stroke-width: 1.0;\"/><polygon fill=\"#A80036\" points=\"188.632,267.7385,186.1898,258.1972,185.5318,263.8157,179.9133,263.1576,188.632,267.7385\" style=\"stroke: #A80036; stroke-width: 1.0;\"/><!--link F1 to 刪除 Todo--><path d=\"M195.215,152.068 C200.8878,159.2458 213.0552,174.6413 223.4215,187.7579 \" fill=\"none\" id=\"F1-刪除 Todo\" style=\"stroke: #A80036; stroke-width: 1.0;\"/><polygon fill=\"#A80036\" points=\"226.5717,191.7437,224.1293,182.2025,223.4714,187.8209,217.8529,187.163,226.5717,191.7437\" style=\"stroke: #A80036; stroke-width: 1.0;\"/><!--link 刪除 Todo to J1--><path d=\"M226.5634,228.2667 C217.4169,239.8399 206.0054,254.2788 198.8584,263.3221 \" fill=\"none\" id=\"刪除 Todo-J1\" style=\"stroke: #A80036; stroke-width: 1.0;\"/><polygon fill=\"#A80036\" points=\"195.368,267.7385,204.0867,263.1576,198.4682,263.8157,197.8102,258.1972,195.368,267.7385\" style=\"stroke: #A80036; stroke-width: 1.0;\"/><!--link F1 to 修改個人資訊--><path d=\"M202.1044,152.068 C220.9192,159.6428 262.4654,176.3692 296.1022,189.9113 \" fill=\"none\" id=\"F1-修改個人資訊\" style=\"stroke: #A80036; stroke-width: 1.0;\"/><polygon fill=\"#A80036\" points=\"301.004,191.8847,294.149,184.813,296.3658,190.0174,291.1613,192.2342,301.004,191.8847\" style=\"stroke: #A80036; stroke-width: 1.0;\"/><!--link 修改個人資訊 to J1--><path d=\"M301.0428,228.0996 C269.1529,240.9384 228.3382,257.3703 206.8176,266.0345 \" fill=\"none\" id=\"修改個人資訊-J1\" style=\"stroke: #A80036; stroke-width: 1.0;\"/><polygon fill=\"#A80036\" points=\"202.0283,267.9626,211.871,268.3117,206.6665,266.0952,208.8831,260.8907,202.0283,267.9626\" style=\"stroke: #A80036; stroke-width: 1.0;\"/><!--link J1 to 登出--><path d=\"M192,276.068 C192,283.0602 192,297.8504 192,310.7358 \" fill=\"none\" id=\"J1-登出\" style=\"stroke: #A80036; stroke-width: 1.0;\"/><polygon fill=\"#A80036\" points=\"192,315.7437,196,306.7437,192,310.7437,188,306.7437,192,315.7437\" style=\"stroke: #A80036; stroke-width: 1.0;\"/><!--link 登出 to end--><path d=\"M192,352.2228 C192,363.0771 192,376.6879 192,386.9324 \" fill=\"none\" id=\"登出-end\" style=\"stroke: #A80036; stroke-width: 1.0;\"/><polygon fill=\"#A80036\" points=\"192,391.9504,196,382.9504,192,386.9504,188,382.9504,192,391.9504\" style=\"stroke: #A80036; stroke-width: 1.0;\"/><!--\n",
       "@startuml\n",
       "\n",
       "(*) - -> \"登入\" \n",
       "\n",
       "- -> ===F1===\n",
       "- -> \"新增 Todo\"\n",
       "- -> ===J1===\n",
       "\n",
       "===F1=== - -> \"修改 Todo\"\n",
       "- -> ===J1===\n",
       "\n",
       "===F1=== - -> \"刪除 Todo\"\n",
       "- -> ===J1===\n",
       "\n",
       "===F1=== - -> \"修改個人資訊\"\n",
       "- -> ===J1===\n",
       "\n",
       "- -> \"登出\"\n",
       "- -> (*)\n",
       "\n",
       "@enduml\n",
       "\n",
       "PlantUML version 1.2018.14(Sat Dec 22 00:33:16 CST 2018)\n",
       "(GPL source distribution)\n",
       "Java Runtime: Java(TM) SE Runtime Environment\n",
       "JVM: Java HotSpot(TM) 64-Bit Server VM\n",
       "Java Version: 1.8.0_202-b08\n",
       "Operating System: Linux\n",
       "OS Version: 4.20.7-arch1-1-ARCH\n",
       "Default Encoding: UTF-8\n",
       "Language: zh\n",
       "Country: TW\n",
       "--></g></svg>"
      ],
      "text/plain": [
       "<IPython.core.display.SVG object>"
      ]
     },
     "execution_count": 10,
     "metadata": {},
     "output_type": "execute_result"
    }
   ],
   "source": [
    "%%plantuml --jar\n",
    "\n",
    "@startuml\n",
    "\n",
    "(*) --> \"登入\" \n",
    "\n",
    "--> ===F1===\n",
    "--> \"新增 Todo\"\n",
    "--> ===J1===\n",
    "\n",
    "===F1=== --> \"修改 Todo\"\n",
    "--> ===J1===\n",
    "\n",
    "===F1=== --> \"刪除 Todo\"\n",
    "--> ===J1===\n",
    "\n",
    "===F1=== --> \"修改個人資訊\"\n",
    "--> ===J1===\n",
    "\n",
    "--> \"登出\"\n",
    "--> (*)\n",
    "\n",
    "@enduml"
   ]
  },
  {
   "cell_type": "markdown",
   "metadata": {
    "hideCode": false,
    "hidePrompt": false,
    "kernel": "markdown"
   },
   "source": [
    "# 實作探討\n",
    "\n",
    "## 使用者介面設計\n",
    "\n",
    "## 資料庫操作\n",
    "\n",
    "## Web 服務串接\n",
    "\n",
    "## 認證機制導入\n",
    "\n",
    "## 專案打包機制\n",
    "\n",
    "## 佈署環境設定"
   ]
  },
  {
   "cell_type": "code",
   "execution_count": null,
   "metadata": {
    "kernel": "Python3"
   },
   "outputs": [],
   "source": []
  },
  {
   "cell_type": "code",
   "execution_count": null,
   "metadata": {
    "kernel": "Python3"
   },
   "outputs": [],
   "source": []
  }
 ],
 "metadata": {
  "hide_code_all_hidden": false,
  "kernelspec": {
   "display_name": "SoS",
   "language": "sos",
   "name": "sos"
  },
  "language_info": {
   "codemirror_mode": "sos",
   "file_extension": ".sos",
   "mimetype": "text/x-sos",
   "name": "sos",
   "nbconvert_exporter": "sos_notebook.converter.SoS_Exporter",
   "pygments_lexer": "sos"
  },
  "sos": {
   "kernels": [
    [
     "Python3",
     "python3",
     "Python3",
     "#FFD91A"
    ],
    [
     "markdown",
     "markdown",
     "markdown",
     ""
    ]
   ],
   "panel": {
    "displayed": false,
    "height": 0
   },
   "version": "0.18.3"
  }
 },
 "nbformat": 4,
 "nbformat_minor": 2
}
