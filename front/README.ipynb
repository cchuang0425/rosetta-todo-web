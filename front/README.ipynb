{
 "cells": [
  {
   "cell_type": "markdown",
   "metadata": {
    "kernel": "SoS"
   },
   "source": [
    "# 使用者介面\n",
    "\n",
    "## 設計構想\n",
    "\n",
    "因為這是後端架構的實驗計畫，因此前端的使用者介面以儘可能精簡的方式進行設計。並且不使用任何 JavaScript framework，\n",
    "最多只使用 lodash、ramda 之類的 toolkit 來輔助使用。\n",
    "\n",
    "JS 語言主要參照 [MDN](https://developer.mozilla.org/zh-TW/) 的文件，以 ES7 為主進行開發，\n",
    "雖然我對新的 JavaScript 語言規格不熟，但透過開發過程，應能大致了解 ES6 到 ES7 的更新內容。\n",
    "\n",
    "CSS 額外使用了 PureCSS 與幾個網頁字型，PureCSS 是我最常用的 CSS 工具，好處就在於它相當的乾淨，只提供最精簡的功能。\n"
   ]
  },
  {
   "cell_type": "code",
   "execution_count": null,
   "metadata": {
    "kernel": "SoS"
   },
   "outputs": [],
   "source": []
  }
 ],
 "metadata": {
  "kernelspec": {
   "display_name": "SoS",
   "language": "sos",
   "name": "sos"
  },
  "language_info": {
   "codemirror_mode": "sos",
   "file_extension": ".sos",
   "mimetype": "text/x-sos",
   "name": "sos",
   "nbconvert_exporter": "sos_notebook.converter.SoS_Exporter",
   "pygments_lexer": "sos"
  },
  "sos": {
   "kernels": [],
   "panel": {
    "displayed": false,
    "height": 0
   },
   "version": "0.18.3"
  }
 },
 "nbformat": 4,
 "nbformat_minor": 2
}
