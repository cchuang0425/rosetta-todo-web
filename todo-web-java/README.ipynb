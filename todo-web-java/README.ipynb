{
 "cells": [
  {
   "cell_type": "markdown",
   "metadata": {
    "kernel": "SoS"
   },
   "source": [
    "# TodoWeb - Java"
   ]
  },
  {
   "cell_type": "markdown",
   "metadata": {
    "kernel": "SoS"
   },
   "source": [
    "## 設計說明\n",
    "\n",
    "Java 版的 TodoWeb，原希望不透過太過大型的框架進行開發，然而若不使用成熟度較高的框架，相對的會需要費多些工。我既然已經寫了十幾年的 Java，\n",
    "自然是把力氣放在其他語言較為合適。因此 Java 的部份，會使用 SpringBoot 結合 Web 框架，用最精簡的方式進行開發。作為其他語言開發時的參考典範。\n",
    "\n",
    "套件管理與專案建置，Java 有成熟靈活的 Gradle 與 Maven 可用，因此就順著 SpringBoot 的主流，使用 Gradle 作為主要管理工具。\n",
    "\n",
    "語言的部份，使用 Java 最新的 JDK 11 進行開發，除非是要使用比較特別的模組，不然在 Java 9 之後，在 Base 模組上開發是感覺不到差異的，\n",
    "還能使用新的 API 與語言特性，開發人員是必然要常常更新腦袋的。"
   ]
  },
  {
   "cell_type": "code",
   "execution_count": null,
   "metadata": {
    "kernel": "SoS"
   },
   "outputs": [],
   "source": []
  }
 ],
 "metadata": {
  "kernelspec": {
   "display_name": "SoS",
   "language": "sos",
   "name": "sos"
  },
  "language_info": {
   "codemirror_mode": "sos",
   "file_extension": ".sos",
   "mimetype": "text/x-sos",
   "name": "sos",
   "nbconvert_exporter": "sos_notebook.converter.SoS_Exporter",
   "pygments_lexer": "sos"
  },
  "sos": {
   "kernels": [],
   "panel": {
    "displayed": false,
    "height": 0
   },
   "version": "0.18.3"
  }
 },
 "nbformat": 4,
 "nbformat_minor": 2
}
